{
 "cells": [
  {
   "cell_type": "markdown",
   "metadata": {},
   "source": [
    "# Navigation\n",
    "\n",
    "---\n",
    "\n",
    "In this notebook, you will learn how to use the Unity ML-Agents environment for the first project of the [Deep Reinforcement Learning Nanodegree](https://www.udacity.com/course/deep-reinforcement-learning-nanodegree--nd893).\n",
    "\n",
    "### 1. Start the Environment\n",
    "\n",
    "We begin by importing some necessary packages.  If the code cell below returns an error, please revisit the project instructions to double-check that you have installed [Unity ML-Agents](https://github.com/Unity-Technologies/ml-agents/blob/master/docs/Installation.md) and [NumPy](http://www.numpy.org/)."
   ]
  },
  {
   "cell_type": "code",
   "execution_count": 1,
   "metadata": {},
   "outputs": [],
   "source": [
    "from unityagents import UnityEnvironment\n",
    "import numpy as np"
   ]
  },
  {
   "cell_type": "markdown",
   "metadata": {},
   "source": [
    "Next, we will start the environment!  **_Before running the code cell below_**, change the `file_name` parameter to match the location of the Unity environment that you downloaded.\n",
    "\n",
    "- **Mac**: `\"path/to/Banana.app\"`\n",
    "- **Windows** (x86): `\"path/to/Banana_Windows_x86/Banana.exe\"`\n",
    "- **Windows** (x86_64): `\"path/to/Banana_Windows_x86_64/Banana.exe\"`\n",
    "- **Linux** (x86): `\"path/to/Banana_Linux/Banana.x86\"`\n",
    "- **Linux** (x86_64): `\"path/to/Banana_Linux/Banana.x86_64\"`\n",
    "- **Linux** (x86, headless): `\"path/to/Banana_Linux_NoVis/Banana.x86\"`\n",
    "- **Linux** (x86_64, headless): `\"path/to/Banana_Linux_NoVis/Banana.x86_64\"`\n",
    "\n",
    "For instance, if you are using a Mac, then you downloaded `Banana.app`.  If this file is in the same folder as the notebook, then the line below should appear as follows:\n",
    "```\n",
    "env = UnityEnvironment(file_name=\"Banana.app\")\n",
    "```"
   ]
  },
  {
   "cell_type": "code",
   "execution_count": 2,
   "metadata": {},
   "outputs": [
    {
     "name": "stderr",
     "output_type": "stream",
     "text": [
      "INFO:unityagents:\n",
      "'Academy' started successfully!\n",
      "Unity Academy name: Academy\n",
      "        Number of Brains: 1\n",
      "        Number of External Brains : 1\n",
      "        Lesson number : 0\n",
      "        Reset Parameters :\n",
      "\t\t\n",
      "Unity brain name: BananaBrain\n",
      "        Number of Visual Observations (per agent): 0\n",
      "        Vector Observation space type: continuous\n",
      "        Vector Observation space size (per agent): 37\n",
      "        Number of stacked Vector Observation: 1\n",
      "        Vector Action space type: discrete\n",
      "        Vector Action space size (per agent): 4\n",
      "        Vector Action descriptions: , , , \n"
     ]
    }
   ],
   "source": [
    "env = UnityEnvironment(file_name=\"Banana_Linux/Banana.x86\")"
   ]
  },
  {
   "cell_type": "markdown",
   "metadata": {},
   "source": [
    "Environments contain **_brains_** which are responsible for deciding the actions of their associated agents. Here we check for the first brain available, and set it as the default brain we will be controlling from Python."
   ]
  },
  {
   "cell_type": "code",
   "execution_count": 3,
   "metadata": {},
   "outputs": [],
   "source": [
    "# get the default brain\n",
    "brain_name = env.brain_names[0]\n",
    "brain = env.brains[brain_name]"
   ]
  },
  {
   "cell_type": "markdown",
   "metadata": {},
   "source": [
    "### 2. Examine the State and Action Spaces\n",
    "\n",
    "The simulation contains a single agent that navigates a large environment.  At each time step, it has four actions at its disposal:\n",
    "- `0` - walk forward \n",
    "- `1` - walk backward\n",
    "- `2` - turn left\n",
    "- `3` - turn right\n",
    "\n",
    "The state space has `37` dimensions and contains the agent's velocity, along with ray-based perception of objects around agent's forward direction.  A reward of `+1` is provided for collecting a yellow banana, and a reward of `-1` is provided for collecting a blue banana. \n",
    "\n",
    "Run the code cell below to print some information about the environment."
   ]
  },
  {
   "cell_type": "code",
   "execution_count": 4,
   "metadata": {},
   "outputs": [
    {
     "name": "stdout",
     "output_type": "stream",
     "text": [
      "Number of agents: 1\n",
      "Number of actions: 4\n",
      "States look like: [1.         0.         0.         0.         0.84408134 0.\n",
      " 0.         1.         0.         0.0748472  0.         1.\n",
      " 0.         0.         0.25755    1.         0.         0.\n",
      " 0.         0.74177343 0.         1.         0.         0.\n",
      " 0.25854847 0.         0.         1.         0.         0.09355672\n",
      " 0.         1.         0.         0.         0.31969345 0.\n",
      " 0.        ]\n"
     ]
    }
   ],
   "source": [
    "# reset the environment\n",
    "env_info = env.reset(train_mode=True)[brain_name]\n",
    "\n",
    "# number of agents in the environment\n",
    "print('Number of agents:', len(env_info.agents))\n",
    "\n",
    "# number of actions\n",
    "action_size = brain.vector_action_space_size\n",
    "print('Number of actions:', action_size)\n",
    "\n",
    "# examine the state space \n",
    "#for i in range(2000):\n",
    "#    action = np.random.randint(action_size)\n",
    "#    env_info = env.step(action)[brain_name]\n",
    "#    print(env_info.vector_observations[0])\n",
    "state = env_info.vector_observations[0]\n",
    "#state = env_info.visual_observations\n",
    "print('States look like:', state)\n",
    "state_size = len(state)\n",
    "#print('States have length:', state_size)"
   ]
  },
  {
   "cell_type": "markdown",
   "metadata": {},
   "source": [
    "### 3. Training Agent\n",
    "\n",
    "In the next code cell, the Agent is trained with the algorithm of DQN. Please run the cells step by step to make sure it work correctly. The user may change some parameters such as episode_num, max_time, eps_start, eps_end, eps_decay to see the effect of those parameter on training process.\n",
    "\n"
   ]
  },
  {
   "cell_type": "code",
   "execution_count": 5,
   "metadata": {},
   "outputs": [],
   "source": [
    "import torch \n",
    "from collections import deque #for the scores list\n",
    "import matplotlib.pyplot as plt\n",
    "from agent import DQN_agent\n",
    "from time import time\n",
    "import sys\n",
    "import os\n",
    "%matplotlib inline\n",
    "\n",
    "agent = DQN_agent(state_size = state_size, action_size = action_size, seed = 0)\n"
   ]
  },
  {
   "cell_type": "code",
   "execution_count": 6,
   "metadata": {},
   "outputs": [
    {
     "name": "stdout",
     "output_type": "stream",
     "text": [
      "Episode: 0\tAverageScores: 0.00. Time/episode: 0.91\n",
      "Episode: 100\tAverageScores: 2.21. Time/episode: 0.75\n",
      "Episode: 200\tAverageScores: 6.67. Time/episode: 0.73\n",
      "Episode: 300\tAverageScores: 9.58. Time/episode: 0.69\n",
      "Episode: 400\tAverageScores: 12.53. Time/episode: 0.69\n",
      "Episode: 500\tAverageScores: 14.35. Time/episode: 0.81\n",
      "Episode: 600\tAverageScores: 16.22. Time/episode: 0.72\n",
      "Episode: 700\tAverageScores: 15.27. Time/episode: 0.71\n",
      "Episode: 800\tAverageScores: 15.27. Time/episode: 0.83\n",
      "Episode: 900\tAverageScores: 15.44. Time/episode: 0.70\n",
      "Episode: 1000\tAverageScores: 16.86. Time/episode: 0.72\n",
      "Episode: 1100\tAverageScores: 16.51. Time/episode: 0.72\n",
      "Episode: 1200\tAverageScores: 16.22. Time/episode: 0.71\n",
      "Episode: 1300\tAverageScores: 16.19. Time/episode: 0.86\n",
      "Episode: 1400\tAverageScores: 15.92. Time/episode: 0.73\n",
      "Episode: 1500\tAverageScores: 16.26. Time/episode: 0.88\n",
      "Episode: 1600\tAverageScores: 16.13. Time/episode: 0.70\n",
      "Episode: 1700\tAverageScores: 15.52. Time/episode: 0.68\n",
      "Episode: 1800\tAverageScores: 14.58. Time/episode: 0.74\n",
      "Episode: 1900\tAverageScores: 15.03. Time/episode: 0.70\n",
      "The algorithm is solved in : 436 and average is: 14.12\n"
     ]
    },
    {
     "data": {
      "image/png": "[encoded data removed]",
      "text/plain": [
       "<Figure size 432x288 with 1 Axes>"
      ]
     },
     "metadata": {
      "needs_background": "light"
     },
     "output_type": "display_data"
    }
   ],
   "source": [
    "def DQN_training(env, episode_num = 2000, max_time = 1000, eps_start = 1.0, eps_end = 0.01, eps_decay = 0.99):\n",
    "    scores = []\n",
    "    scores_windows = deque(maxlen = 100)\n",
    "    eps = eps_start\n",
    "    is_solved = False\n",
    "    eps_solved = 0\n",
    "    for episode in range(episode_num):\n",
    "        start_time = time()\n",
    "        env_info = env.reset(train_mode=True)[brain_name] # reset the environment\n",
    "        state = env_info.vector_observations[0]            # get the current state\n",
    "        score = 0 # initialize the score\n",
    "        for t in range(max_time):\n",
    "            #action = np.random.randint(action_size)        # select an action\n",
    "            \n",
    "            action = agent.act(state, eps)\n",
    "            \n",
    "            env_info = env.step(action)[brain_name]        # send the action to the environment\n",
    "            \n",
    "            next_state = env_info.vector_observations[0]   # get the next state\n",
    "            reward = env_info.rewards[0]                   # get the reward\n",
    "            done = env_info.local_done[0]                  # see if episode has finished\n",
    "            score += reward                                # update the score\n",
    "            \n",
    "            agent.step(state, action, reward, next_state, done) #update the parameter\n",
    "            \n",
    "            #print(stop_time - start_time)\n",
    "            state = next_state                             # roll over the state to next time step\n",
    "            if done:                                       # exit loop if episode finished\n",
    "                break\n",
    "        scores.append(score)\n",
    "        scores_windows.append(score)\n",
    "        eps = max(eps*eps_decay, eps_end)\n",
    "        \n",
    "        ends = '' if not (episode % 100 == 0) else '\\n'\n",
    "        stop_time = time()\n",
    "        delta_time = stop_time - start_time\n",
    "        print('\\rEpisode: {}\\tAverageScores: {:.2f}. Time/episode: {:.2f}'.format(episode, np.mean(scores_windows),delta_time), end = ends )\n",
    "        if(np.mean(scores_windows)>= 13.0 and not is_solved): #Terminated condition\n",
    "            torch.save(agent.qnetwork_local.state_dict(), 'Checkpoint_DQN.pth')\n",
    "            eps_solved = episode\n",
    "            is_solved = True\n",
    "            #break\n",
    "    print('\\rThe algorithm is solved in : {} and average is: {:.2f}'.format(eps_solved, np.mean(scores)))   \n",
    "    torch.save(agent.qnetwork_local.state_dict(), 'Checkpoint_DQN.pth')\n",
    "    return scores\n",
    "    \n",
    "scores = DQN_training(env)\n",
    "\n",
    "# plot the scores\n",
    "fig = plt.figure()\n",
    "ax = fig.add_subplot(111)\n",
    "plt.plot(np.arange(len(scores)), scores)\n",
    "plt.ylabel('Score')\n",
    "plt.xlabel('Episode #')\n",
    "plt.show()\n",
    "\n",
    "#print(\"Score: {}\".format(score))"
   ]
  },
  {
   "cell_type": "markdown",
   "metadata": {},
   "source": [
    "When finished, you can close the environment."
   ]
  },
  {
   "cell_type": "markdown",
   "metadata": {},
   "source": [
    "### 4. Testing \n",
    "\n",
    "Test the agent with the trained Deep Q-learning Network agent."
   ]
  },
  {
   "cell_type": "code",
   "execution_count": 7,
   "metadata": {},
   "outputs": [
    {
     "name": "stdout",
     "output_type": "stream",
     "text": [
      "Loaded the previous saved network\n"
     ]
    }
   ],
   "source": [
    "if os.path.isfile('Checkpoint_DQN.pth'):\n",
    "    agent.qnetwork_local.load_state_dict(torch.load('Checkpoint_DQN.pth'))\n",
    "    agent.qnetwork_target.load_state_dict(torch.load('Checkpoint_DQN.pth'))\n",
    "    print(\"Loaded the previous saved network\")"
   ]
  },
  {
   "cell_type": "code",
   "execution_count": 8,
   "metadata": {},
   "outputs": [
    {
     "name": "stdout",
     "output_type": "stream",
     "text": [
      "The average score is: 13.48\n"
     ]
    },
    {
     "data": {
      "image/png": "[encoded data removed]",
      "text/plain": [
       "<Figure size 432x288 with 1 Axes>"
      ]
     },
     "metadata": {
      "needs_background": "light"
     },
     "output_type": "display_data"
    }
   ],
   "source": [
    "test_eps = 100\n",
    "test_scores = []\n",
    "for eps in range(test_eps):\n",
    "    env_info = env.reset(train_mode=True)[brain_name] # reset the environment\n",
    "    state = env_info.vector_observations[0]            # get the current state\n",
    "    test_score = 0                                          # initialize the score\n",
    "    testing_steps = 1000\n",
    "    for i in range(testing_steps):\n",
    "        action = action = agent.act(state)      # select an action\n",
    "        env_info = env.step(action)[brain_name]        # send the action to the environment\n",
    "        next_state = env_info.vector_observations[0]   # get the next state\n",
    "        reward = env_info.rewards[0]                   # get the reward\n",
    "        done = env_info.local_done[0]                  # see if episode has finished\n",
    "        test_score += reward                           # update the score\n",
    "        state = next_state                             # roll over the state to next time step\n",
    "        if done:                                       # exit loop if episode finished\n",
    "            break\n",
    "            \n",
    "    test_scores.append(test_score)\n",
    "\n",
    "#print(\"Score: {}\".format(score))\n",
    "# plot the scores\n",
    "print(\"The average score is: {:.2f}\".format(np.mean(test_scores)))\n",
    "fig2 = plt.figure()\n",
    "ax = fig2.add_subplot(111)\n",
    "plt.plot(np.arange(test_eps), test_scores)\n",
    "plt.ylabel('Test_Score')\n",
    "plt.xlabel('Episode')\n",
    "plt.show()"
   ]
  },
  {
   "cell_type": "code",
   "execution_count": null,
   "metadata": {},
   "outputs": [],
   "source": [
    "env.close()"
   ]
  }
 ],
 "metadata": {
  "kernelspec": {
   "display_name": "Python 3",
   "language": "python",
   "name": "python3"
  },
  "language_info": {
   "codemirror_mode": {
    "name": "ipython",
    "version": 3
   },
   "file_extension": ".py",
   "mimetype": "text/x-python",
   "name": "python",
   "nbconvert_exporter": "python",
   "pygments_lexer": "ipython3",
   "version": "3.6.13"
  }
 },
 "nbformat": 4,
 "nbformat_minor": 2
}
